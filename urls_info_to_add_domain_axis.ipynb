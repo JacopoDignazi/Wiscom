{
 "cells": [
  {
   "cell_type": "code",
   "execution_count": null,
   "id": "a073161c",
   "metadata": {},
   "outputs": [],
   "source": [
    "from paths import get_path_urlsinfo"
   ]
  },
  {
   "cell_type": "code",
   "execution_count": null,
   "id": "0d120df3",
   "metadata": {},
   "outputs": [],
   "source": [
    "PATH_URLSINFO=get_path_urlsinfo()"
   ]
  },
  {
   "cell_type": "code",
   "execution_count": null,
   "id": "02934d70",
   "metadata": {},
   "outputs": [],
   "source": [
    "PATHNAME_INPUT=PATH_URLSINFO+'urls_info.csv'\n",
    "PATHNAME_OUTPUT=PATH_URLSINFO+'urls_info_and_domain.csv'"
   ]
  },
  {
   "cell_type": "code",
   "execution_count": null,
   "id": "a2c10aec-7007-4457-8f38-fc532e280157",
   "metadata": {},
   "outputs": [],
   "source": [
    "import pandas as pd"
   ]
  },
  {
   "cell_type": "code",
   "execution_count": null,
   "id": "ae692a60-fdce-4f2b-b2e9-200bc9e80f89",
   "metadata": {},
   "outputs": [],
   "source": [
    "from utils_domain import  get_url_domain"
   ]
  },
  {
   "cell_type": "code",
   "execution_count": null,
   "id": "9d2d959c-c6fa-403c-9935-a63ded489f70",
   "metadata": {},
   "outputs": [],
   "source": [
    "URLS_INFO=pd.read_csv(PATHNAME_INPUT)"
   ]
  },
  {
   "cell_type": "code",
   "execution_count": null,
   "id": "6c160abd-a327-43ba-b63a-e6a91746cdde",
   "metadata": {},
   "outputs": [],
   "source": [
    "URLS_INFO.status_code.value_counts(normalize=True)*100"
   ]
  },
  {
   "cell_type": "code",
   "execution_count": null,
   "id": "4b0fc960-a106-4d25-99c4-f08ceb2d7ac6",
   "metadata": {},
   "outputs": [],
   "source": [
    "URLS_INFO[URLS_INFO.status_code=='FAILED'].reason.value_counts()/len(URLS_INFO)*100"
   ]
  },
  {
   "cell_type": "code",
   "execution_count": null,
   "id": "e907b765-eb3e-4302-bf35-61aba838fbfa",
   "metadata": {},
   "outputs": [],
   "source": [
    "URLS_INFO[URLS_INFO.reason=='UnknownError'].url.values[:30]"
   ]
  },
  {
   "cell_type": "markdown",
   "id": "92813141",
   "metadata": {},
   "source": [
    "# Domain extraction"
   ]
  },
  {
   "cell_type": "code",
   "execution_count": null,
   "id": "9de21da2",
   "metadata": {},
   "outputs": [],
   "source": [
    "def get_domain(url):\n",
    "    if get_url_domain(url)=='web.archive.org':\n",
    "        return get_url_domain(url[url.rfind('http'):])\n",
    "    return get_url_domain(url)"
   ]
  },
  {
   "cell_type": "code",
   "execution_count": null,
   "id": "6a0ef9a3-8f62-4cc8-bd7a-46c37bbb1cf7",
   "metadata": {},
   "outputs": [],
   "source": [
    "URLS_INFO['initial_domain'] =URLS_INFO['url'].map(get_domain)\n",
    "URLS_INFO['redirect_domain']=URLS_INFO['destination_url'].map(get_domain)"
   ]
  },
  {
   "cell_type": "markdown",
   "id": "476508c9",
   "metadata": {},
   "source": [
    "#### Extract best domain"
   ]
  },
  {
   "cell_type": "code",
   "execution_count": null,
   "id": "b1cd0cbb",
   "metadata": {},
   "outputs": [],
   "source": [
    "def get_final_domain(row):\n",
    "    # failure of initial url\n",
    "#     if row.reason=='InvalidUrl':\n",
    "#         return 'Invalid'\n",
    "    # failure of redirect\n",
    "    if row.redirect_domain=='FAILED':\n",
    "        return row.initial_domain\n",
    "    # everything working\n",
    "    return row.redirect_domain"
   ]
  },
  {
   "cell_type": "code",
   "execution_count": null,
   "id": "de4dfafa",
   "metadata": {},
   "outputs": [],
   "source": [
    "URLS_INFO['final_domain']=URLS_INFO.apply(get_final_domain, axis=1)"
   ]
  },
  {
   "cell_type": "code",
   "execution_count": null,
   "id": "33628f65-c523-41e5-b79a-a7f1a2a4ff63",
   "metadata": {},
   "outputs": [],
   "source": [
    "# URLS_INFO=URLS_INFO[URLS_INFO.status_code!='FAILED']"
   ]
  },
  {
   "cell_type": "code",
   "execution_count": null,
   "id": "57e7b75f-24fa-42e1-84fe-392434574feb",
   "metadata": {},
   "outputs": [],
   "source": [
    "URLS_INFO['final_domain'].value_counts()[:30]"
   ]
  },
  {
   "cell_type": "code",
   "execution_count": null,
   "id": "9233fca2",
   "metadata": {},
   "outputs": [],
   "source": [
    "URLS_INFO[URLS_INFO['final_domain']=='FAILED']"
   ]
  },
  {
   "cell_type": "code",
   "execution_count": null,
   "id": "8d744095-011a-4b93-83d7-a2abda6b5006",
   "metadata": {},
   "outputs": [],
   "source": [
    "URLS_INFO.final_domain.value_counts()[:30]"
   ]
  },
  {
   "cell_type": "code",
   "execution_count": null,
   "id": "58a620d1-f516-4b87-8765-e1fae4e551ea",
   "metadata": {},
   "outputs": [],
   "source": [
    "URLS_INFO[URLS_INFO.redirect_domain!=URLS_INFO.initial_domain]"
   ]
  },
  {
   "cell_type": "markdown",
   "id": "f7aead85",
   "metadata": {},
   "source": [
    "# Merge with perennial sources info"
   ]
  },
  {
   "cell_type": "code",
   "execution_count": null,
   "id": "df60eccd",
   "metadata": {},
   "outputs": [],
   "source": [
    "PERENNIAL_INFO=pd.read_csv(f'{PATH_URLSINFO}enwiki_perennial_30_03_2023.csv')"
   ]
  },
  {
   "cell_type": "code",
   "execution_count": null,
   "id": "8fd79729",
   "metadata": {},
   "outputs": [],
   "source": [
    "PERENNIAL_INFO#[50:100]"
   ]
  },
  {
   "cell_type": "code",
   "execution_count": null,
   "id": "54e2aac2",
   "metadata": {},
   "outputs": [],
   "source": [
    "# PERENNIAL_SAMPLE_URLS=PERENNIAL_INFO.sample(5).url.tolist()\n",
    "PERENNIAL_SAMPLE_URLS=['nationalgeographic.com', 'bloomberg.com', 'theguardian.com', 'vogue.com', \n",
    "                       'mirror.co.uk', 'cosmopolitan.com', 'chinadaily.com.cn',\n",
    "                       'facebook.com', 'youtube.com', 'arxiv.org', 'researchgate.net']\n",
    "PERENNIAL_SAMPLE=PERENNIAL_INFO[PERENNIAL_INFO.url.isin(PERENNIAL_SAMPLE_URLS)]\\\n",
    ".drop(columns=['last']).drop_duplicates(subset='url')\\\n",
    ".set_index('url')\n",
    "PERENNIAL_SAMPLE=PERENNIAL_SAMPLE.loc[PERENNIAL_SAMPLE_URLS]"
   ]
  },
  {
   "cell_type": "code",
   "execution_count": null,
   "id": "8c12f5b1",
   "metadata": {},
   "outputs": [],
   "source": []
  },
  {
   "cell_type": "code",
   "execution_count": null,
   "id": "2decd120",
   "metadata": {
    "scrolled": true
   },
   "outputs": [],
   "source": [
    "# Function to apply a background color\n",
    "def colorize(row):\n",
    "    if row['status'] == 'Generally unreliable':\n",
    "        return ['background-color: red'] * (len(row))\n",
    "    if row['status'] == 'No consensus':\n",
    "        return ['background-color: yellow'] * (len(row))\n",
    "    if row['status'] == 'Generally reliable':\n",
    "        return ['background-color: green'] * (len(row))\n",
    "    return [''] * len(row)\n",
    "\n",
    "# Apply the coloring function\n",
    "styled_df = PERENNIAL_SAMPLE.style.apply(colorize, axis=1)\n",
    "styled_df"
   ]
  },
  {
   "cell_type": "code",
   "execution_count": null,
   "id": "80a4e500",
   "metadata": {},
   "outputs": [],
   "source": [
    "styled_df"
   ]
  },
  {
   "cell_type": "code",
   "execution_count": null,
   "id": "19d32098",
   "metadata": {},
   "outputs": [],
   "source": []
  },
  {
   "cell_type": "code",
   "execution_count": null,
   "id": "6c6e9887",
   "metadata": {},
   "outputs": [],
   "source": [
    "len(PERENNIAL_INFO[PERENNIAL_INFO.url.isin(URLS_INFO.final_domain)])"
   ]
  },
  {
   "cell_type": "markdown",
   "id": "baeae161",
   "metadata": {},
   "source": [
    "#### Statistics across perennial sources used (above) vs not used (blow) in dataset"
   ]
  },
  {
   "cell_type": "code",
   "execution_count": null,
   "id": "64f50e2a",
   "metadata": {},
   "outputs": [],
   "source": [
    "PERENNIAL_INFO[PERENNIAL_INFO.url.isin(URLS_INFO.final_domain)].status.value_counts(normalize=True)*100"
   ]
  },
  {
   "cell_type": "code",
   "execution_count": null,
   "id": "982c4c7b",
   "metadata": {},
   "outputs": [],
   "source": [
    "PERENNIAL_INFO[~PERENNIAL_INFO.url.isin(URLS_INFO.final_domain)].status.value_counts(normalize=True)*100"
   ]
  },
  {
   "cell_type": "code",
   "execution_count": null,
   "id": "9bfcc5cf",
   "metadata": {},
   "outputs": [],
   "source": [
    "URLS_INFO"
   ]
  },
  {
   "cell_type": "code",
   "execution_count": null,
   "id": "20e63d72",
   "metadata": {},
   "outputs": [],
   "source": [
    "PERENNIAL_INFO[['url', 'status']].set_index('url').rename(columns={'status':'perennial_status'})"
   ]
  },
  {
   "cell_type": "code",
   "execution_count": null,
   "id": "26193ae7",
   "metadata": {},
   "outputs": [],
   "source": [
    "PERENNIAL_INFO['status'].value_counts()"
   ]
  },
  {
   "cell_type": "code",
   "execution_count": null,
   "id": "4ed80812",
   "metadata": {},
   "outputs": [],
   "source": [
    "PERENNIAL_INFO[PERENNIAL_INFO['status']=='Blacklisted'][30:60]"
   ]
  },
  {
   "cell_type": "code",
   "execution_count": null,
   "id": "e2fc1dc9",
   "metadata": {},
   "outputs": [],
   "source": [
    "URLS_INFO=URLS_INFO.merge(PERENNIAL_INFO[['url', 'status']].set_index('url').rename(columns={'status':'perennial_status'}), \n",
    "                          left_on='final_domain', right_index=True, suffixes=('','_perennial'), how='left')"
   ]
  },
  {
   "cell_type": "code",
   "execution_count": null,
   "id": "3859525f",
   "metadata": {},
   "outputs": [],
   "source": [
    "URLS_INFO['final_domain']=URLS_INFO['final_domain'].fillna('FAILED')\n",
    "URLS_INFO['final_domain']=URLS_INFO['final_domain'].map(lambda x: 'FAILED' if x=='' else x)"
   ]
  },
  {
   "cell_type": "code",
   "execution_count": null,
   "id": "9a6c4d6e",
   "metadata": {},
   "outputs": [],
   "source": [
    "URLS_INFO['perennial_status']=URLS_INFO['perennial_status'].fillna('unknown')"
   ]
  },
  {
   "cell_type": "code",
   "execution_count": null,
   "id": "3d5b5768",
   "metadata": {},
   "outputs": [],
   "source": [
    "URLS_INFO.perennial_status.value_counts(normalize=True)*100"
   ]
  },
  {
   "cell_type": "markdown",
   "id": "d55be61d",
   "metadata": {},
   "source": [
    "# Merge with MBFC data"
   ]
  },
  {
   "cell_type": "code",
   "execution_count": null,
   "id": "230c94d1",
   "metadata": {},
   "outputs": [],
   "source": [
    "# Data from https://github.com/drmikecrowe/mbfcext/blob/main/docs/v5/data/sources.json"
   ]
  },
  {
   "cell_type": "code",
   "execution_count": null,
   "id": "285885af",
   "metadata": {},
   "outputs": [],
   "source": [
    "MBFC_DATA=pd.read_json(f'{PATH_URLSINFO}mbtf_sources_2.json')\n",
    "len(MBFC_DATA)"
   ]
  },
  {
   "cell_type": "code",
   "execution_count": null,
   "id": "df8d3303",
   "metadata": {},
   "outputs": [],
   "source": [
    "MBFC_DATA"
   ]
  },
  {
   "cell_type": "markdown",
   "id": "d7c4ff9f",
   "metadata": {},
   "source": [
    "#### Domain compatible with ours"
   ]
  },
  {
   "cell_type": "code",
   "execution_count": null,
   "id": "38b11e81",
   "metadata": {},
   "outputs": [],
   "source": [
    "MBFC_DATA['clean_domain']=MBFC_DATA['domain'].map(get_domain)\n",
    "# MBFC_DATA[MBFC_DATA['clean_domain']!=MBFC_DATA['domain']]"
   ]
  },
  {
   "cell_type": "markdown",
   "id": "5754f263",
   "metadata": {},
   "source": [
    "#### Removing non entries (reporting=nan)"
   ]
  },
  {
   "cell_type": "code",
   "execution_count": null,
   "id": "2329e80b",
   "metadata": {},
   "outputs": [],
   "source": [
    "MBFC_DATA.credibility.unique()"
   ]
  },
  {
   "cell_type": "code",
   "execution_count": null,
   "id": "f43c9461",
   "metadata": {},
   "outputs": [],
   "source": [
    "# MBFC_DATA[MBFC_DATA.reporting.map(lambda x: not isinstance(x,str))]"
   ]
  },
  {
   "cell_type": "code",
   "execution_count": null,
   "id": "17449a37",
   "metadata": {},
   "outputs": [],
   "source": [
    "MBFC_DATA=MBFC_DATA.dropna(subset=['reporting'])"
   ]
  },
  {
   "cell_type": "markdown",
   "id": "dd2183d1",
   "metadata": {},
   "source": [
    "#### Statistics"
   ]
  },
  {
   "cell_type": "code",
   "execution_count": null,
   "id": "97e71cbc",
   "metadata": {},
   "outputs": [],
   "source": [
    "MBFC_DATA.reporting.value_counts(normalize=True)*100"
   ]
  },
  {
   "cell_type": "code",
   "execution_count": null,
   "id": "2986187f",
   "metadata": {},
   "outputs": [],
   "source": [
    "MBFC_DATA[MBFC_DATA['clean_domain'].isin(URLS_INFO['final_domain'])].reporting.value_counts(normalize=True)*100"
   ]
  },
  {
   "cell_type": "markdown",
   "id": "8063d318",
   "metadata": {},
   "source": [
    "#### Cleaning duplicated (same domain different sections)"
   ]
  },
  {
   "cell_type": "code",
   "execution_count": null,
   "id": "d6751884",
   "metadata": {},
   "outputs": [],
   "source": [
    "# drop all duplicated if they have same reporting\n",
    "MBFC_DATA=MBFC_DATA.drop_duplicates(subset=['clean_domain', 'reporting'])"
   ]
  },
  {
   "cell_type": "code",
   "execution_count": null,
   "id": "5d3e57cb",
   "metadata": {},
   "outputs": [],
   "source": [
    "MBFC_DATA[MBFC_DATA['clean_domain']=='huffpost.com']"
   ]
  },
  {
   "cell_type": "code",
   "execution_count": null,
   "id": "b01ed422",
   "metadata": {},
   "outputs": [],
   "source": [
    "REMAINING_DUPLICATES=MBFC_DATA[MBFC_DATA['clean_domain'].duplicated(keep=False)]\n",
    "TO_REMOVE_IDX=REMAINING_DUPLICATES[~REMAINING_DUPLICATES.domain.isin(URLS_INFO.final_domain)].index\n",
    "MBFC_DATA.loc[TO_REMOVE_IDX]"
   ]
  },
  {
   "cell_type": "code",
   "execution_count": null,
   "id": "096e127f",
   "metadata": {},
   "outputs": [],
   "source": [
    "MBFC_DATA=MBFC_DATA[~MBFC_DATA.index.isin(TO_REMOVE_IDX)]"
   ]
  },
  {
   "cell_type": "code",
   "execution_count": null,
   "id": "fb52f4d8",
   "metadata": {},
   "outputs": [],
   "source": [
    "MBFC_DATA.clean_domain.value_counts()"
   ]
  },
  {
   "cell_type": "markdown",
   "id": "a2a5f923",
   "metadata": {},
   "source": [
    "### Merging"
   ]
  },
  {
   "cell_type": "code",
   "execution_count": null,
   "id": "42147c6d",
   "metadata": {},
   "outputs": [],
   "source": [
    "len(URLS_INFO)"
   ]
  },
  {
   "cell_type": "code",
   "execution_count": null,
   "id": "5061ebee",
   "metadata": {},
   "outputs": [],
   "source": [
    "URLS_INFO=URLS_INFO.merge(MBFC_DATA[['clean_domain', 'reporting']].set_index('clean_domain').rename(columns={'reporting':'mbfc_status'}),\n",
    "                          left_on='final_domain', right_index=True, how='left')"
   ]
  },
  {
   "cell_type": "code",
   "execution_count": null,
   "id": "afd3ff46",
   "metadata": {},
   "outputs": [],
   "source": [
    "URLS_INFO['mbfc_status']=URLS_INFO['mbfc_status'].fillna('unknown')"
   ]
  },
  {
   "cell_type": "markdown",
   "id": "052fbf9d-5518-4941-ba50-a40b3a89ccef",
   "metadata": {},
   "source": [
    "# Saving data"
   ]
  },
  {
   "cell_type": "code",
   "execution_count": null,
   "id": "2079212d",
   "metadata": {},
   "outputs": [],
   "source": [
    "PATHNAME_OUTPUT"
   ]
  },
  {
   "cell_type": "code",
   "execution_count": null,
   "id": "e6e41247",
   "metadata": {},
   "outputs": [],
   "source": [
    "URLS_INFO=URLS_INFO.drop_duplicates(subset='url')"
   ]
  },
  {
   "cell_type": "code",
   "execution_count": null,
   "id": "38529219",
   "metadata": {},
   "outputs": [],
   "source": [
    "URLS_INFO[URLS_INFO.url=='https:///books?id=GtBa6XIW_aQC&pg=PA77'].final_domain.values"
   ]
  },
  {
   "cell_type": "code",
   "execution_count": null,
   "id": "35593b3d-e841-48c3-9280-ba93a47d47b8",
   "metadata": {},
   "outputs": [],
   "source": [
    "URLS_INFO.to_csv(PATHNAME_OUTPUT, index=False)"
   ]
  },
  {
   "cell_type": "markdown",
   "id": "6b6e3b7b-cdcf-4e84-8323-107ea08a16e2",
   "metadata": {},
   "source": [
    "# Statistics"
   ]
  },
  {
   "cell_type": "code",
   "execution_count": null,
   "id": "3714e632-32e6-4c93-b4b8-7126a7e3bb33",
   "metadata": {},
   "outputs": [],
   "source": [
    "len(URLS_INFO.final_domain.unique())"
   ]
  },
  {
   "cell_type": "code",
   "execution_count": null,
   "id": "04a044dc",
   "metadata": {},
   "outputs": [],
   "source": [
    "len(URLS_INFO)"
   ]
  },
  {
   "cell_type": "code",
   "execution_count": null,
   "id": "be71d031",
   "metadata": {},
   "outputs": [],
   "source": [
    "PERENNIAL_INFO[PERENNIAL_INFO.url.isin(URLS_INFO.final_domain)]"
   ]
  },
  {
   "cell_type": "code",
   "execution_count": null,
   "id": "021f4eec",
   "metadata": {},
   "outputs": [],
   "source": [
    "PERENNIAL_INFO[~PERENNIAL_INFO.url.isin(URLS_INFO.final_domain)]"
   ]
  },
  {
   "cell_type": "code",
   "execution_count": null,
   "id": "a3128a02",
   "metadata": {},
   "outputs": [],
   "source": [
    "len(PERENNIAL_INFO[~PERENNIAL_INFO.url.isin(URLS_INFO.final_domain)].name.unique())"
   ]
  },
  {
   "cell_type": "code",
   "execution_count": null,
   "id": "2a32248e",
   "metadata": {},
   "outputs": [],
   "source": [
    "PERENNIAL_INFO[PERENNIAL_INFO.url.map(lambda x: '/' in x)]"
   ]
  },
  {
   "cell_type": "code",
   "execution_count": null,
   "id": "894216ab",
   "metadata": {},
   "outputs": [],
   "source": [
    "PERENNIAL_INFO.drop_duplicates(subset=['url'])"
   ]
  },
  {
   "cell_type": "code",
   "execution_count": null,
   "id": "0f3a16d9",
   "metadata": {},
   "outputs": [],
   "source": [
    "PERENNIAL_INFO[:10]"
   ]
  },
  {
   "cell_type": "code",
   "execution_count": null,
   "id": "5c35d04a",
   "metadata": {},
   "outputs": [],
   "source": []
  },
  {
   "cell_type": "code",
   "execution_count": null,
   "id": "9dacba7c",
   "metadata": {},
   "outputs": [],
   "source": [
    "URLS_INFO['perennial_status'].value_counts(normalize=True)*100"
   ]
  },
  {
   "cell_type": "code",
   "execution_count": null,
   "id": "25aae6be",
   "metadata": {},
   "outputs": [],
   "source": [
    "URLS_INFO['mbfc_status'].value_counts(normalize=True)*100"
   ]
  },
  {
   "cell_type": "code",
   "execution_count": null,
   "id": "acbe387c",
   "metadata": {},
   "outputs": [],
   "source": [
    "URLS_INFO['final_domain'].value_counts(normalize=True)*100"
   ]
  }
 ],
 "metadata": {
  "kernelspec": {
   "display_name": "Python 3 (ipykernel)",
   "language": "python",
   "name": "python3"
  },
  "language_info": {
   "codemirror_mode": {
    "name": "ipython",
    "version": 3
   },
   "file_extension": ".py",
   "mimetype": "text/x-python",
   "name": "python",
   "nbconvert_exporter": "python",
   "pygments_lexer": "ipython3",
   "version": "3.7.16"
  }
 },
 "nbformat": 4,
 "nbformat_minor": 5
}
