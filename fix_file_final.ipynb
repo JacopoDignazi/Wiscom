{
 "cells": [
  {
   "cell_type": "code",
   "execution_count": null,
   "id": "18e8c5ad",
   "metadata": {},
   "outputs": [],
   "source": [
    "from paths import get_path_collected\n",
    "\n",
    "import pandas as pd"
   ]
  },
  {
   "cell_type": "code",
   "execution_count": null,
   "id": "2a062d5c",
   "metadata": {},
   "outputs": [],
   "source": [
    "PR_NAME='Climate change'\n",
    "# PR_NAME='COVID-19'\n",
    "# PR_NAME='History_sample'\n",
    "# PR_NAME='Biology_sample'\n",
    "# PR_NAME='Media_sample'\n",
    "\n",
    "\n",
    "LANG='english'\n",
    "# LANG='other_languages'"
   ]
  },
  {
   "cell_type": "code",
   "execution_count": null,
   "id": "d13b5abb",
   "metadata": {},
   "outputs": [],
   "source": [
    "import shutil\n",
    "\n",
    "# Duplicate file for safety\n",
    "source_file = get_path_collected(PR_NAME, LANG)+'sources_revision_edits.csv'\n",
    "destination_file = get_path_collected(PR_NAME, LANG)+'sources_revision_edits-backup.csv'\n",
    "\n",
    "shutil.copyfile(source_file, destination_file)"
   ]
  },
  {
   "cell_type": "code",
   "execution_count": null,
   "id": "651e3e4b",
   "metadata": {},
   "outputs": [],
   "source": [
    "from tqdm.notebook import tqdm"
   ]
  },
  {
   "cell_type": "code",
   "execution_count": null,
   "id": "13ade808",
   "metadata": {},
   "outputs": [],
   "source": [
    "import pandas as pd\n",
    "\n",
    "import re\n",
    "from io import StringIO\n",
    "\n",
    "# Path to your CSV file\n",
    "file_path = source_file\n",
    "\n",
    "# Read the file as a single string\n",
    "with open(file_path, 'r', encoding='utf-8') as file:\n",
    "    data = file.read()\n",
    "\n",
    "    \n",
    "print(\"COMMENT-BASED ERRORS\")\n",
    "pattern = r\"'[^,]*\\n[^,]*'\"\n",
    "# Find all matches\n",
    "matches = re.findall(pattern, data)\n",
    "# Print matches\n",
    "N_QUOTATION_ERRORS=len(matches)\n",
    "for match in set(matches):\n",
    "    print(match)\n",
    "    print('----------------------------------------')\n",
    "for match in tqdm(set(matches), desc='replacing errors'):\n",
    "    data=data.replace(match, '*'*len(match))\n",
    "\n",
    "print(\"TITLE-BASED ERRORS\")\n",
    "pattern_title = r'title,[^,\"]*\\n[^,\"]*,'\n",
    "matches = re.findall(pattern_title, data)\n",
    "# Print matches\n",
    "N_TITLE_ERRORS=len(matches)\n",
    "for match in set(matches):\n",
    "    print(match)\n",
    "    print('----------------------------------------')\n",
    "for match in tqdm(set(matches), desc='replacing errors'):\n",
    "    data=data.replace(match[6:-1], '*'*(len(match)-6-1))\n",
    "\n",
    "# Convert the modified string to a StringIO object so it can be read by pandas.read_csv\n",
    "data_io = StringIO(data)\n",
    "\n",
    "# Now read the modified data into a DataFrame\n",
    "df = pd.read_csv(data_io)\n",
    "\n",
    "# Check the first few rows to ensure it looks correct\n",
    "df"
   ]
  },
  {
   "cell_type": "code",
   "execution_count": null,
   "id": "4759aebb",
   "metadata": {},
   "outputs": [],
   "source": [
    "# set(matches)"
   ]
  },
  {
   "cell_type": "code",
   "execution_count": null,
   "id": "819eabc9",
   "metadata": {},
   "outputs": [],
   "source": [
    "print(\"N_QUOTATION_ERRORS=\", N_QUOTATION_ERRORS)\n",
    "print(\"N_TITLE_ERRORS=\", N_TITLE_ERRORS)"
   ]
  },
  {
   "cell_type": "code",
   "execution_count": null,
   "id": "8544805d",
   "metadata": {},
   "outputs": [],
   "source": [
    "df[df.source.isna()]"
   ]
  },
  {
   "cell_type": "code",
   "execution_count": null,
   "id": "73202153",
   "metadata": {},
   "outputs": [],
   "source": [
    "assert len(df[df.n_rev_valid.isna()])==0"
   ]
  },
  {
   "cell_type": "code",
   "execution_count": null,
   "id": "1d1de9c8",
   "metadata": {},
   "outputs": [],
   "source": [
    "df.source=df.source.fillna('invalid')"
   ]
  },
  {
   "cell_type": "markdown",
   "id": "600858e3",
   "metadata": {},
   "source": [
    "# Deleting pages where problematic character in title"
   ]
  },
  {
   "cell_type": "code",
   "execution_count": null,
   "id": "2335d46e",
   "metadata": {},
   "outputs": [],
   "source": [
    "df[df.page.map(lambda x: '$' in x)]"
   ]
  },
  {
   "cell_type": "code",
   "execution_count": null,
   "id": "85b73505",
   "metadata": {},
   "outputs": [],
   "source": [
    "df=df[~df.page.map(lambda x: '$' in x)]"
   ]
  },
  {
   "cell_type": "code",
   "execution_count": null,
   "id": "1f086617",
   "metadata": {},
   "outputs": [],
   "source": [
    "len(df)"
   ]
  },
  {
   "cell_type": "markdown",
   "id": "d03fc117",
   "metadata": {},
   "source": [
    "# Saving corrected file"
   ]
  },
  {
   "cell_type": "code",
   "execution_count": null,
   "id": "4ec8d1b3",
   "metadata": {},
   "outputs": [],
   "source": [
    "df.to_csv(source_file, index=False)"
   ]
  },
  {
   "cell_type": "code",
   "execution_count": null,
   "id": "502443cf",
   "metadata": {},
   "outputs": [],
   "source": [
    "# pd.read_csv('sources_revision_edits.csv')"
   ]
  }
 ],
 "metadata": {
  "kernelspec": {
   "display_name": "Python 3 (ipykernel)",
   "language": "python",
   "name": "python3"
  },
  "language_info": {
   "codemirror_mode": {
    "name": "ipython",
    "version": 3
   },
   "file_extension": ".py",
   "mimetype": "text/x-python",
   "name": "python",
   "nbconvert_exporter": "python",
   "pygments_lexer": "ipython3",
   "version": "3.7.16"
  }
 },
 "nbformat": 4,
 "nbformat_minor": 5
}
