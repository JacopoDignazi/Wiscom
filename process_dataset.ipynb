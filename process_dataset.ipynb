{
 "cells": [
  {
   "cell_type": "code",
   "execution_count": null,
   "id": "1d0f0175-3cd8-457f-9b9a-82e2b6014a49",
   "metadata": {},
   "outputs": [],
   "source": [
    "from utils_process_dataset import *\n",
    "\n",
    "import warnings"
   ]
  },
  {
   "cell_type": "code",
   "execution_count": null,
   "id": "f9fc2257",
   "metadata": {},
   "outputs": [],
   "source": [
    "ALLOW_SAVE=True\n",
    "ALLOW_REPLACE=True"
   ]
  },
  {
   "cell_type": "code",
   "execution_count": null,
   "id": "077ed34d",
   "metadata": {},
   "outputs": [],
   "source": [
    "PROJECT_NAME=['CL','CV', 'BIO', 'HIS', 'MED']\n",
    "# PROJECT_NAME=['HIS']"
   ]
  },
  {
   "cell_type": "code",
   "execution_count": null,
   "id": "d9243c9a",
   "metadata": {},
   "outputs": [],
   "source": [
    "from paths import get_path_collected"
   ]
  },
  {
   "cell_type": "code",
   "execution_count": null,
   "id": "ba36e932",
   "metadata": {},
   "outputs": [],
   "source": [
    "if len(PROJECT_NAME)==1:\n",
    "    PROJECT_ALL_LANG=pd.read_csv(get_path_collected(PROJECT_SHORT_TO_NAME[PROJECT_NAME[0]], 'other_languages')+'sources_revision_edits.csv')\\\n",
    "    ['lang'].unique().tolist()\n",
    "else:\n",
    "    _t=pd.read_csv('../data/lang_stats.csv')\n",
    "    _t=_t[_t['sel']]\n",
    "    PROJECT_ALL_LANG=_t['lang'].unique()\n",
    "    \n",
    "if not 'en' in PROJECT_ALL_LANG:\n",
    "    PROJECT_ALL_LANG=['en']+PROJECT_ALL_LANG"
   ]
  },
  {
   "cell_type": "code",
   "execution_count": null,
   "id": "369e5cf9",
   "metadata": {},
   "outputs": [],
   "source": [
    "len(PROJECT_ALL_LANG)"
   ]
  },
  {
   "cell_type": "code",
   "execution_count": null,
   "id": "dc2bea5b",
   "metadata": {},
   "outputs": [],
   "source": [
    "# for lang in PROJECT_ALL_LANG:\n",
    "#     assert lang in ALL_LANG"
   ]
  },
  {
   "cell_type": "code",
   "execution_count": null,
   "id": "f5e1c695",
   "metadata": {},
   "outputs": [],
   "source": [
    "ALREADY_PROCESSED=[]"
   ]
  },
  {
   "cell_type": "code",
   "execution_count": null,
   "id": "2270bc09",
   "metadata": {},
   "outputs": [],
   "source": [
    "PROCESSCODE_LANG={0:[], 1:[], 2:[], 3:[], 5:[], 7:[]}\n",
    "\n",
    "other_except={}\n",
    "\n",
    "for lang in PROJECT_ALL_LANG:\n",
    "\n",
    "    if lang in ALREADY_PROCESSED:\n",
    "        continue\n",
    "        \n",
    "    with warnings.catch_warnings():\n",
    "        warnings.simplefilter(\"ignore\", category=pd.errors.PerformanceWarning)\n",
    "        warnings.simplefilter(\"ignore\", category=pd.errors.DtypeWarning)\n",
    "        \n",
    "        try:\n",
    "            return_code=process_dataset(PROJECT_NAME, [lang]*len(PROJECT_NAME), \n",
    "#                                         MIN_DATE='2019-01-01',\n",
    "                                        MAX_DATE='2018-07-01',\n",
    "                                        FOLDER_OUTPUT_PROCESSED='processed_pre_perennial',\n",
    "                                        ALLOW_SAVE=ALLOW_SAVE,\n",
    "                                        ALLOW_REPLACE=ALLOW_REPLACE\n",
    "                                       )\n",
    "        except Exception as e:\n",
    "            print(f\"An exception occurred: {e}\")\n",
    "            return_code = 3\n",
    "            other_except[lang]=e\n",
    "            \n",
    "        ALREADY_PROCESSED.append(lang)\n",
    "        PROCESSCODE_LANG[return_code].append(lang)\n",
    "        "
   ]
  },
  {
   "cell_type": "code",
   "execution_count": null,
   "id": "e4f4e157-80d5-453a-a4a7-7416f2a9607f",
   "metadata": {},
   "outputs": [],
   "source": []
  },
  {
   "cell_type": "code",
   "execution_count": null,
   "id": "4d12bae7",
   "metadata": {},
   "outputs": [],
   "source": [
    "# (2) ERROR HAPPENING BECAUSE NO SOURCE IS CURRENTLY USED"
   ]
  },
  {
   "cell_type": "code",
   "execution_count": null,
   "id": "02260070",
   "metadata": {},
   "outputs": [],
   "source": [
    "PROCESSCODE_LANG[2]"
   ]
  },
  {
   "cell_type": "code",
   "execution_count": null,
   "id": "d8f4f311",
   "metadata": {},
   "outputs": [],
   "source": [
    "# (5) source are used but not as url. So there is data but effective data is none\n",
    "PROCESSCODE_LANG[5]"
   ]
  },
  {
   "cell_type": "code",
   "execution_count": null,
   "id": "f1b6e544",
   "metadata": {},
   "outputs": [],
   "source": [
    "# (3) ERROR HAPPENING FOR OTHER REASONS"
   ]
  },
  {
   "cell_type": "code",
   "execution_count": null,
   "id": "b25e3daa",
   "metadata": {},
   "outputs": [],
   "source": [
    "PROCESSCODE_LANG[3]"
   ]
  },
  {
   "cell_type": "code",
   "execution_count": null,
   "id": "3b95fe98",
   "metadata": {},
   "outputs": [],
   "source": [
    "other_except"
   ]
  }
 ],
 "metadata": {
  "kernelspec": {
   "display_name": "Python 3 (ipykernel)",
   "language": "python",
   "name": "python3"
  },
  "language_info": {
   "codemirror_mode": {
    "name": "ipython",
    "version": 3
   },
   "file_extension": ".py",
   "mimetype": "text/x-python",
   "name": "python",
   "nbconvert_exporter": "python",
   "pygments_lexer": "ipython3",
   "version": "3.7.16"
  }
 },
 "nbformat": 4,
 "nbformat_minor": 5
}
