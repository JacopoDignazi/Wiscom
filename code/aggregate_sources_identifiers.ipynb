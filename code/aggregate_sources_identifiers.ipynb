{
 "cells": [
  {
   "cell_type": "markdown",
   "id": "d0419c7b",
   "metadata": {},
   "source": [
    "# NB:\n",
    "- not using cooccurrences at all\n",
    "- computing only equivalent sources by simple rules"
   ]
  },
  {
   "cell_type": "code",
   "execution_count": null,
   "id": "90f60fb2",
   "metadata": {},
   "outputs": [],
   "source": [
    "PROJECT_NAME='Climate change'\n",
    "# PROJECT_NAME='COVID-19'\n",
    "# PROJECT_NAME='Biology_sample'\n",
    "# PROJECT_NAME='History_sample'\n",
    "# PROJECT_NAME='Media_sample'\n",
    "\n",
    "LANGUAGE='english'\n",
    "# LANGUAGE='other_languages'"
   ]
  },
  {
   "cell_type": "code",
   "execution_count": null,
   "id": "1403400f",
   "metadata": {},
   "outputs": [],
   "source": [
    "import pandas as pd\n",
    "from copy import deepcopy\n",
    "import numpy as np"
   ]
  },
  {
   "cell_type": "code",
   "execution_count": null,
   "id": "c39cc44d",
   "metadata": {},
   "outputs": [],
   "source": [
    "from tqdm.notebook import tqdm"
   ]
  },
  {
   "cell_type": "code",
   "execution_count": null,
   "id": "d5f94fa8",
   "metadata": {},
   "outputs": [],
   "source": [
    "from utils_domain import  get_url_domain"
   ]
  },
  {
   "cell_type": "code",
   "execution_count": null,
   "id": "49c70a9e",
   "metadata": {},
   "outputs": [],
   "source": [
    "import matplotlib.pyplot as plt"
   ]
  },
  {
   "cell_type": "code",
   "execution_count": null,
   "id": "1b543912",
   "metadata": {},
   "outputs": [],
   "source": [
    "from paths import get_path_urlsinfo, get_path_collected"
   ]
  },
  {
   "cell_type": "code",
   "execution_count": null,
   "id": "c6a81fe7",
   "metadata": {},
   "outputs": [],
   "source": []
  },
  {
   "cell_type": "code",
   "execution_count": null,
   "id": "5925f18d",
   "metadata": {},
   "outputs": [],
   "source": [
    "PATHNAME_INPUT=f\"{get_path_collected(PROJECT_NAME, LANGUAGE)}sources_revision_edits.csv\""
   ]
  },
  {
   "cell_type": "code",
   "execution_count": null,
   "id": "7ff62e26",
   "metadata": {},
   "outputs": [],
   "source": [
    "PATHNAME_INPUT_URLSINFO=get_path_urlsinfo()+'urls_info_and_domain.csv'"
   ]
  },
  {
   "cell_type": "code",
   "execution_count": null,
   "id": "3217e802",
   "metadata": {},
   "outputs": [],
   "source": [
    "PATH_OUTPUT=get_path_collected(PROJECT_NAME, LANGUAGE)"
   ]
  },
  {
   "cell_type": "markdown",
   "id": "7836ee2a",
   "metadata": {},
   "source": [
    "### Source cooccurrences"
   ]
  },
  {
   "cell_type": "code",
   "execution_count": null,
   "id": "4cdc6356",
   "metadata": {},
   "outputs": [],
   "source": [
    "SOURCES_REV=pd.read_csv(PATHNAME_INPUT)"
   ]
  },
  {
   "cell_type": "code",
   "execution_count": null,
   "id": "f4176561",
   "metadata": {},
   "outputs": [],
   "source": [
    "len(SOURCES_REV)"
   ]
  },
  {
   "cell_type": "markdown",
   "id": "2974e3bb",
   "metadata": {},
   "source": [
    "### URLS Info (redirect+domain)"
   ]
  },
  {
   "cell_type": "code",
   "execution_count": null,
   "id": "14bf2ff2",
   "metadata": {},
   "outputs": [],
   "source": [
    "URLS_INFO=pd.read_csv(PATHNAME_INPUT_URLSINFO)"
   ]
  },
  {
   "cell_type": "code",
   "execution_count": null,
   "id": "61148170",
   "metadata": {},
   "outputs": [],
   "source": [
    "# URLS2DOMAIN  =URLS_INFO.set_index('url')['destination_domain'].to_dict() #not used atm"
   ]
  },
  {
   "cell_type": "code",
   "execution_count": null,
   "id": "1c9566ac",
   "metadata": {},
   "outputs": [],
   "source": [
    "URLS2REDIRECT=URLS_INFO.set_index('url')['destination_url'].to_dict()\n",
    "# URLS2REDIRECT=URLS_INFO[URLS_INFO.status_code=='200'].set_index('url')['destination_url'].to_dict()"
   ]
  },
  {
   "cell_type": "code",
   "execution_count": null,
   "id": "fb439693",
   "metadata": {},
   "outputs": [],
   "source": [
    "URLS_INFO"
   ]
  },
  {
   "cell_type": "code",
   "execution_count": null,
   "id": "ed612f15",
   "metadata": {},
   "outputs": [],
   "source": [
    "SOURCES_REV['ts']=SOURCES_REV['source_type']+'|$|'+SOURCES_REV['source']\n",
    "TS_EDIT_DATA=SOURCES_REV['ts'].unique()"
   ]
  },
  {
   "cell_type": "code",
   "execution_count": null,
   "id": "a0b421bd",
   "metadata": {},
   "outputs": [],
   "source": [
    "len(TS_EDIT_DATA)"
   ]
  },
  {
   "cell_type": "markdown",
   "id": "5bb8e1b6",
   "metadata": {},
   "source": [
    "# Brief analysis (before re-elaborating it)"
   ]
  },
  {
   "cell_type": "markdown",
   "id": "44342099",
   "metadata": {},
   "source": [
    "Counting presence by source type"
   ]
  },
  {
   "cell_type": "code",
   "execution_count": null,
   "id": "00e27564",
   "metadata": {},
   "outputs": [],
   "source": [
    "PATHNAME_INPUT"
   ]
  },
  {
   "cell_type": "code",
   "execution_count": null,
   "id": "b454a718",
   "metadata": {},
   "outputs": [],
   "source": [
    "assert len(SOURCES_REV[SOURCES_REV.source_type.isna()])==0"
   ]
  },
  {
   "cell_type": "code",
   "execution_count": null,
   "id": "99029603",
   "metadata": {},
   "outputs": [],
   "source": [
    "SOURCES_REV.source_type.map(lambda x: x.split('|$|')[0]).value_counts(normalize=True)*100"
   ]
  },
  {
   "cell_type": "markdown",
   "id": "a5d93299",
   "metadata": {},
   "source": [
    "# Computing equivalence groups"
   ]
  },
  {
   "cell_type": "code",
   "execution_count": null,
   "id": "48733e42",
   "metadata": {},
   "outputs": [],
   "source": [
    "def _update_equivalence_stats(expansion_type, expansion_triplet):\n",
    "    global EQUIVALENCE_STATS\n",
    "    \n",
    "    if expansion_type not in EQUIVALENCE_STATS: EQUIVALENCE_STATS[expansion_type]=set()\n",
    "    EQUIVALENCE_STATS[expansion_type].update([tuple(expansion_triplet)])\n",
    "\n",
    "def _update_equivalence_count(t, relatives):\n",
    "    global EQUIVALENCE_COUNT\n",
    "    \n",
    "    if t not in EQUIVALENCE_COUNT: EQUIVALENCE_COUNT[t]={}\n",
    "    n_rel=len(relatives)-1\n",
    "    if n_rel not in EQUIVALENCE_COUNT[t]: EQUIVALENCE_COUNT[t][n_rel]=0\n",
    "    EQUIVALENCE_COUNT[t][n_rel]+=1 "
   ]
  },
  {
   "cell_type": "markdown",
   "id": "6a88aa35",
   "metadata": {},
   "source": [
    "NB check that this function works as it should"
   ]
  },
  {
   "cell_type": "code",
   "execution_count": null,
   "id": "4bb13267",
   "metadata": {},
   "outputs": [],
   "source": [
    "def strip_section(ts):\n",
    "    t,s =ts.split('|$|')\n",
    "    if not t in ['unstructurl', 'url', 'archive', 'chapter', 'trunc-arch','trunc-sect']: return ts\n",
    "    loc_sect=s.rfind('#')\n",
    "    loc_page=s.rfind('&page=')\n",
    "    loc_pg=s.rfind('&pg=')\n",
    "    loc_qm=s.find('?')\n",
    "\n",
    "    min_loc=[loc for loc in [loc_sect, loc_page, loc_pg] if loc>0 ] #-1 does not count\n",
    "    min_loc=sorted(min_loc)\n",
    "    if len(min_loc): \n",
    "        return 'trunc-sect|$|'+s[:min_loc[0]]\n",
    "    else:\n",
    "        return ts\n",
    "    \n",
    "strip_section('chapter|$|https://books.google.com/books?id=UuAIyYdrHJQC&pg=PA181#v=onepage') #example"
   ]
  },
  {
   "cell_type": "code",
   "execution_count": null,
   "id": "d0bc66e3",
   "metadata": {},
   "outputs": [],
   "source": [
    "def get_redirect_identifier(ts, resilient=False):\n",
    "    t,s=ts.split('|$|')\n",
    "    if t not in ['unstructurl', 'url', 'archive', 'chapter', 'trunc-arch','trunc-sect']: return  ts\n",
    "    if 'trunc' in t: resilient=True\n",
    "    # resilient NEEDS to be true when using url from truncated urls\n",
    "#     else:              resilient=False\n",
    "    redirect_relative=URLS2REDIRECT.get(s, None)\n",
    "    if redirect_relative==None: \n",
    "        if not resilient:\n",
    "            print(f\"NOT FOUND 1 {t}|$|{s} IN URLS_INFO: values found\")\n",
    "            assert 0\n",
    "        return ts\n",
    "    if redirect_relative=='FAILED' or redirect_relative==s: return ts\n",
    "    return 'url|$|'+redirect_relative"
   ]
  },
  {
   "cell_type": "code",
   "execution_count": null,
   "id": "66230aa1",
   "metadata": {},
   "outputs": [],
   "source": [
    "import networkx as nx"
   ]
  },
  {
   "cell_type": "code",
   "execution_count": null,
   "id": "21b0fe96",
   "metadata": {},
   "outputs": [],
   "source": [
    "def _update_equivalence_groups(l_ts):\n",
    "    global EQUIVALENCE_GRAPH\n",
    "    global GROUPED_TS\n",
    "    \n",
    "    if len(l_ts)==0: return\n",
    "    if len(l_ts)==1: EQUIVALENCE_GRAPH.add_node(list(l_ts)[0])\n",
    "    \n",
    "    if l_ts & GROUPED_TS: #it means that at least one of them has been grouped\n",
    "        if l_ts - GROUPED_TS: # it means at least one of them has not been grouped \n",
    "            for i, ts_i in enumerate(l_ts):\n",
    "                for j, ts_j in enumerate(l_ts):\n",
    "                    if i<j: continue\n",
    "                    EQUIVALENCE_GRAPH.add_edge(ts_i, ts_j)\n",
    "            GROUPED_TS.update(l_ts)\n",
    "        else: # it means that all of them are already grouped\n",
    "            return\n",
    "    else:\n",
    "        for i, ts_i in enumerate(l_ts):\n",
    "            for j, ts_j in enumerate(l_ts):\n",
    "                if i<j: continue\n",
    "                EQUIVALENCE_GRAPH.add_edge(ts_i, ts_j)\n",
    "        GROUPED_TS.update(l_ts)"
   ]
  },
  {
   "cell_type": "code",
   "execution_count": null,
   "id": "ed68f74f",
   "metadata": {},
   "outputs": [],
   "source": [
    "def compute_relative_identifiers(initial_ts):\n",
    "    initial_t, s=initial_ts.split('|$|')\n",
    "    \n",
    "    if initial_t not in ['doi', 'unstructurl', 'url', 'archive', 'chapter']: return \n",
    "    \n",
    "    relative_identifiers={initial_ts:f'{initial_t:-<12}->>>-{\"self\":->10}'}\n",
    "    \n",
    "    if initial_t=='doi':\n",
    "        _t_exp_type=f'{\"doi\":-<3}->>>-{\"url\":->3}'\n",
    "        new_ts='url|$|https://doi.org/'+s\n",
    "        relative_identifiers[new_ts]=_t_exp_type\n",
    "        _update_equivalence_stats(_t_exp_type, [initial_ts, new_ts])\n",
    "    \n",
    "        # expand by redirect #ONLY FOR DOI URLS\n",
    "        for r_ts, r_type in deepcopy(relative_identifiers).items():\n",
    "            _t_exp_type = '{:-<{}}->>>-{:->10}'.format(r_type, 12, 'redirect') \n",
    "            new_ts =get_redirect_identifier(r_ts, resilient=False)  #if fails, returns r_ts itself\n",
    "            if new_ts not in relative_identifiers:\n",
    "                relative_identifiers[new_ts]=_t_exp_type\n",
    "                _update_equivalence_stats(_t_exp_type, [initial_ts, r_ts, new_ts])\n",
    "    \n",
    "#     if t in ['unstructurl', 'url', 'archive', 'chapter']:\n",
    "    _t_exp_type=f'{initial_t:-<12}->>>-{\"trunc-arch\":->10}'\n",
    "    if get_url_domain(s)=='web.archive.org':\n",
    "        if s.rfind('http')>0:\n",
    "            new_ts='trunc-arch|$|'+s[s.rfind('http'):]\n",
    "            relative_identifiers[new_ts]=_t_exp_type\n",
    "            _update_equivalence_stats(_t_exp_type, [initial_ts, new_ts])\n",
    "\n",
    "    # expand by removing pg,page and sections in urls\n",
    "    for r_ts, r_type in deepcopy(relative_identifiers).items():\n",
    "        _t_exp_type = '{:-<{}}->>>-{:->10}'.format(r_type, 12+5+10, 'trunc-sect')\n",
    "        new_ts=strip_section(r_ts)     #if fails, returns r_ts itself\n",
    "        if new_ts not in relative_identifiers:\n",
    "            relative_identifiers[new_ts]=_t_exp_type\n",
    "            _update_equivalence_stats(_t_exp_type, [initial_ts, r_ts, new_ts])\n",
    "\n",
    "            \n",
    "#  EQUIVALENCE BY REDIRECT IS DANGEROUS\n",
    "#  BECAUSE urls can redirect to very generic urls (ex web domain itself or web domain + error page)\n",
    "#  so there is risk of collapsing big portions of the data to a generic url\n",
    "#     # expand by redirect\n",
    "#     for r_ts, r_type in deepcopy(relative_identifiers).items():\n",
    "#         _t_exp_type = '{:-<{}}->>>-{:->10}'.format(r_type, 12+5+10+5+10, 'redirect') \n",
    "#         new_ts =get_redirect_identifier(r_ts)  #if fails, returns r_ts itself\n",
    "#         if new_ts not in relative_identifiers:\n",
    "#             relative_identifiers[new_ts]=_t_exp_type\n",
    "#             _update_expansion_stats(_t_exp_type, [ts, r_ts, new_ts])\n",
    "\n",
    "    # COLLAPSING all url types to url #\n",
    "    # NB not including for doi code BUT including https:... doi.org/{doi_code})\n",
    "    set_clean_ts=[]\n",
    "    set_clean_ts_without_initial=[]\n",
    "    for ts in relative_identifiers.keys():\n",
    "        t,s=ts.split('|$|')\n",
    "        if t!='doi': clean_ts='url|$|'+s\n",
    "        if t=='doi': clean_ts=ts\n",
    "        set_clean_ts.append(clean_ts)\n",
    "#         if ts!=initial_ts:\n",
    "#             set_clean_ts_without_initial.append(clean_ts)\n",
    "    set_clean_ts=set(set_clean_ts)\n",
    "#     set_clean_ts_without_initial=set(set_clean_ts_without_initial)\n",
    "    \n",
    "    \n",
    "    _update_equivalence_groups(set_clean_ts)   \n",
    "    if initial_ts not in _counted_equiv:\n",
    "        _update_equivalence_count(initial_t, set_clean_ts)\n",
    "        _counted_equiv.update([initial_ts])\n"
   ]
  },
  {
   "cell_type": "code",
   "execution_count": null,
   "id": "13e4eab4",
   "metadata": {},
   "outputs": [],
   "source": [
    "# EXPANSION_DATA=[]\n",
    "\n",
    "# for _, row in tqdm(SOURCES_COOCC.iterrows(), total=len(SOURCES_COOCC)):\n",
    "#     ts_i=row.source_id_i\n",
    "#     ts_j=row.source_id_j\n",
    "    \n",
    "#     relative_id_i=get_relative_identifiers(ts_i)\n",
    "#     relative_id_j=get_relative_identifiers(ts_j)\n",
    "\n",
    "#     TO_ADD=[]\n",
    "#     for rid_i in relative_id_i:\n",
    "#         row_exp=deepcopy(row)\n",
    "#         row_exp.source_id_i=rid_i\n",
    "#         TO_ADD.append(row_exp)\n",
    "        \n",
    "#     for rid_j in relative_id_j:\n",
    "#         row_exp=deepcopy(row)\n",
    "#         row_exp.source_id_j=rid_j\n",
    "#         TO_ADD.append(row_exp)\n",
    "        \n",
    "#     for rid_i in relative_id_i:\n",
    "#         for rid_j in relative_id_j:\n",
    "#             row_exp=deepcopy(row)\n",
    "#             row_exp.source_id_i=rid_i\n",
    "#             row_exp.source_id_j=rid_j\n",
    "#             TO_ADD.append(row_exp)    \n",
    "            \n",
    "#     EXPANSION_DATA+=TO_ADD"
   ]
  },
  {
   "cell_type": "code",
   "execution_count": null,
   "id": "fe71c478",
   "metadata": {},
   "outputs": [],
   "source": [
    "EQUIVALENCE_GRAPH=nx.Graph()\n",
    "GROUPED_TS=set()\n",
    "_counted_equiv=set()\n",
    "EQUIVALENCE_STATS={}\n",
    "EQUIVALENCE_COUNT={}"
   ]
  },
  {
   "cell_type": "code",
   "execution_count": null,
   "id": "a1b3d1e5",
   "metadata": {},
   "outputs": [],
   "source": [
    "for n_ts, ts in enumerate(tqdm(SOURCES_REV['ts'], total=len(SOURCES_REV['ts']))):\n",
    "    compute_relative_identifiers(ts)\n"
   ]
  },
  {
   "cell_type": "markdown",
   "id": "3b2c6dd4",
   "metadata": {},
   "source": [
    "### Extract equivalent groups\n",
    "(they are stored in a graph as connected components)"
   ]
  },
  {
   "cell_type": "code",
   "execution_count": null,
   "id": "d38023c8",
   "metadata": {},
   "outputs": [],
   "source": [
    "EQUIVALENCE_GROUPS=[]\n",
    "for eg in tqdm(nx.connected_components(EQUIVALENCE_GRAPH)):\n",
    "    EQUIVALENCE_GROUPS.append(eg)          "
   ]
  },
  {
   "cell_type": "markdown",
   "id": "9f70c249",
   "metadata": {},
   "source": [
    "# Statistics of the expansion"
   ]
  },
  {
   "cell_type": "markdown",
   "id": "d2b696fc",
   "metadata": {},
   "source": [
    "NB the expansion can start from any of doi+all the url variations\n",
    "\n",
    "and map them to ALWAYS a type=url  "
   ]
  },
  {
   "cell_type": "code",
   "execution_count": null,
   "id": "63fd1f21",
   "metadata": {},
   "outputs": [],
   "source": [
    "for t, ex_c in EQUIVALENCE_COUNT.items():\n",
    "    for size, occurrences in ex_c.items():\n",
    "        print(f\"{t:12} mapped to  {size:2} urls;  occurrences: {occurrences}\")\n",
    "    print()"
   ]
  },
  {
   "cell_type": "code",
   "execution_count": null,
   "id": "702b44b9",
   "metadata": {},
   "outputs": [],
   "source": [
    "srt_exp_stats={t: data for t, data in sorted(EQUIVALENCE_STATS.items(), key=lambda x:x[0])}\n",
    "for exp_type, exp_pairs in srt_exp_stats.items():\n",
    "    print(f\"{exp_type: <60}:\", len(exp_pairs))"
   ]
  },
  {
   "cell_type": "code",
   "execution_count": null,
   "id": "f0c7b084",
   "metadata": {},
   "outputs": [],
   "source": [
    "# EQUIVALENCE_STATS['doi->>>-url']"
   ]
  },
  {
   "cell_type": "code",
   "execution_count": null,
   "id": "fc286d5a",
   "metadata": {},
   "outputs": [],
   "source": [
    "# '10.1637/0003-0031-185.1.32' in SOURCES_REV['source'].values\n",
    "# 'https://doi.org/10.1637/0003-0031-185.1.32' in URLS_INFO['url'].values\n",
    "# URLS_INFO[URLS_INFO['url']=='https://doi.org/10.1637/0003-0031-185.1.32']\n",
    "# len(set([d[0] for d in EQUIVALENCE_STATS['doi->>>--url']])-set([d[0] for d in EQUIVALENCE_STATS['doi->>>--url->>>---redirect']]))\n",
    "# set([d[0] for d in EQUIVALENCE_STATS['doi->>>--url']])-set([d[0] for d in EQUIVALENCE_STATS['doi->>>--url->>>---redirect']])"
   ]
  },
  {
   "cell_type": "markdown",
   "id": "8ff07583",
   "metadata": {},
   "source": [
    "Checking no double occurrences in groups"
   ]
  },
  {
   "cell_type": "code",
   "execution_count": null,
   "id": "49e56802",
   "metadata": {},
   "outputs": [],
   "source": [
    "_grouped_ts=set()\n",
    "\n",
    "for eg in tqdm(EQUIVALENCE_GROUPS):\n",
    "    assert len(_grouped_ts&eg)==0  \n",
    "    _grouped_ts.update(eg)\n"
   ]
  },
  {
   "cell_type": "code",
   "execution_count": null,
   "id": "e094252b",
   "metadata": {},
   "outputs": [],
   "source": [
    "len(_grouped_ts)"
   ]
  },
  {
   "cell_type": "markdown",
   "id": "796fd5f6",
   "metadata": {},
   "source": [
    "Check ts are of correct typing"
   ]
  },
  {
   "cell_type": "code",
   "execution_count": null,
   "id": "74ba05ab",
   "metadata": {},
   "outputs": [],
   "source": [
    "for ts in _grouped_ts:\n",
    "    assert ts.split('|$|')[0] in ['doi', 'url']"
   ]
  },
  {
   "cell_type": "markdown",
   "id": "e1ada0e2",
   "metadata": {},
   "source": [
    "Checking every original s is currently in storage"
   ]
  },
  {
   "cell_type": "code",
   "execution_count": null,
   "id": "baae86a3",
   "metadata": {},
   "outputs": [],
   "source": [
    "_grouped_s=set([ts.split('|$|')[-1] for ts in _grouped_ts])\n",
    "\n",
    "for t, s in zip(SOURCES_REV['source_type'], SOURCES_REV['source']):\n",
    "    if t not in ['doi', 'unstructurl', 'url', 'archive', 'chapter']: continue\n",
    "                \n",
    "    try:\n",
    "        s in _grouped_s\n",
    "    except:\n",
    "        print(s)\n",
    "        assert 0\n",
    "print(\"everything fine\")"
   ]
  },
  {
   "cell_type": "markdown",
   "id": "c286bebc",
   "metadata": {},
   "source": [
    "#### Statistics of equivalence groups"
   ]
  },
  {
   "cell_type": "code",
   "execution_count": null,
   "id": "7d7df42e",
   "metadata": {},
   "outputs": [],
   "source": [
    "SIZE2EGS={}\n",
    "for eg in EQUIVALENCE_GROUPS:\n",
    "    size=len(eg)\n",
    "    if size not in SIZE2EGS:\n",
    "        SIZE2EGS[size]=[]\n",
    "    SIZE2EGS[size].append(eg)\n",
    "\n",
    "SIZE2EGS={s:egs for s, egs in sorted(SIZE2EGS.items(), key=lambda x: x[0])}\n",
    "    \n",
    "for size, egs in SIZE2EGS.items():\n",
    "    print(f\"groups of size {size:2}: occurrences {len(egs)}\")"
   ]
  },
  {
   "cell_type": "code",
   "execution_count": null,
   "id": "7ccb2a6a",
   "metadata": {},
   "outputs": [],
   "source": []
  },
  {
   "cell_type": "code",
   "execution_count": null,
   "id": "374eade2",
   "metadata": {},
   "outputs": [],
   "source": [
    "# SIZE2EGS[7]"
   ]
  },
  {
   "cell_type": "markdown",
   "id": "c0752e9e",
   "metadata": {},
   "source": [
    "# Choosing best identifier for each group"
   ]
  },
  {
   "cell_type": "code",
   "execution_count": null,
   "id": "cd9d56ab",
   "metadata": {},
   "outputs": [],
   "source": [
    "S_OCCURRENCE=\\\n",
    "SOURCES_REV[SOURCES_REV['source_type'].isin(['doi', 'url', 'archive', 'unstructurl', 'chapter'])]\\\n",
    "['source'].value_counts().to_dict()"
   ]
  },
  {
   "cell_type": "code",
   "execution_count": null,
   "id": "e124c51d",
   "metadata": {},
   "outputs": [],
   "source": [
    "len(S_OCCURRENCE)"
   ]
  },
  {
   "cell_type": "code",
   "execution_count": null,
   "id": "efe1e7a3",
   "metadata": {},
   "outputs": [],
   "source": [
    "TS_TO_EQUIVALENT_URL={}\n",
    "for eg in EQUIVALENCE_GROUPS:\n",
    "    \n",
    "    # ------------------------------- first chooses the best ts\n",
    "    best_t='url'\n",
    "    best_ts=''\n",
    "    best_count=0\n",
    "    for this_ts in eg:\n",
    "        this_t, this_s = this_ts.split('|$|')\n",
    "        this_count=S_OCCURRENCE.get(this_s,0)\n",
    "        \n",
    "        if this_t=='doi': \n",
    "            best_t    =this_t\n",
    "            best_ts   ='url|$|https://doi.org/'+this_s\n",
    "            best_count=this_count    \n",
    "            \n",
    "        if 'web.archive.org' in this_s:\n",
    "            this_t='archive' \n",
    "            \n",
    "            best_t    =this_t\n",
    "            best_ts   =this_ts\n",
    "            best_count=this_count\n",
    "            \n",
    "        if best_t=='archive' and this_t in ['url']: \n",
    "            continue\n",
    "            \n",
    "        if best_t=='doi' and this_t in ['url', 'archive']: \n",
    "            continue\n",
    "        \n",
    "        if this_count>=best_count:\n",
    "            best_count=this_count\n",
    "            if this_t=='doi':\n",
    "                best_ts   ='url|$|https://doi.org/'+this_s\n",
    "            else:\n",
    "                best_ts   =this_ts\n",
    "    \n",
    "    for ts in eg:\n",
    "        assert ts not in TS_TO_EQUIVALENT_URL\n",
    "        TS_TO_EQUIVALENT_URL[ts]=best_ts"
   ]
  },
  {
   "cell_type": "code",
   "execution_count": null,
   "id": "283589b4",
   "metadata": {},
   "outputs": [],
   "source": [
    "len(TS_TO_EQUIVALENT_URL)"
   ]
  },
  {
   "cell_type": "code",
   "execution_count": null,
   "id": "2653c04f",
   "metadata": {},
   "outputs": [],
   "source": [
    "for ts_i, ts_j in TS_TO_EQUIVALENT_URL.items():\n",
    "    t_i, s_i =ts_i.split('|$|')\n",
    "    t_j, s_j =ts_j.split('|$|')\n",
    "    \n",
    "    try:\n",
    "        assert t_j=='url'\n",
    "    except:\n",
    "        print(t_j)\n",
    "        break\n",
    "    try:\n",
    "        assert t_i in ['url','doi']\n",
    "    except:\n",
    "        print(t_i)\n",
    "        break"
   ]
  },
  {
   "cell_type": "markdown",
   "id": "da622e0c",
   "metadata": {},
   "source": [
    "# Saving"
   ]
  },
  {
   "cell_type": "code",
   "execution_count": null,
   "id": "669ad778",
   "metadata": {},
   "outputs": [],
   "source": [
    "import pickle"
   ]
  },
  {
   "cell_type": "code",
   "execution_count": null,
   "id": "4460ee98",
   "metadata": {},
   "outputs": [],
   "source": [
    "# TS_TO_EQUIVALENT_TS"
   ]
  },
  {
   "cell_type": "code",
   "execution_count": null,
   "id": "fc2f6638",
   "metadata": {},
   "outputs": [],
   "source": [
    "PATH_OUTPUT"
   ]
  },
  {
   "cell_type": "code",
   "execution_count": null,
   "id": "28a045e4",
   "metadata": {},
   "outputs": [],
   "source": [
    "with open(f'{PATH_OUTPUT}ts_to_equivalent.pickle', 'wb') as handle:\n",
    "    pickle.dump(TS_TO_EQUIVALENT_URL, handle)"
   ]
  },
  {
   "cell_type": "code",
   "execution_count": null,
   "id": "21ac987b",
   "metadata": {},
   "outputs": [],
   "source": [
    "with open(f'{PATH_OUTPUT}equivalence_groups.pickle', 'wb') as handle:\n",
    "    pickle.dump(EQUIVALENCE_GROUPS, handle)"
   ]
  },
  {
   "cell_type": "code",
   "execution_count": null,
   "id": "6740262f",
   "metadata": {},
   "outputs": [],
   "source": [
    "fermoqui\n",
    "codice vecchio"
   ]
  },
  {
   "cell_type": "code",
   "execution_count": null,
   "id": "6cbb2161",
   "metadata": {},
   "outputs": [],
   "source": [
    "with open(f'{PATH_OUTPUT}ts_to_equivalent.pickle', 'rb') as handle:\n",
    "    tst=pickle.load(handle)"
   ]
  },
  {
   "cell_type": "code",
   "execution_count": null,
   "id": "c88dc787",
   "metadata": {},
   "outputs": [],
   "source": [
    "len(tst)==len(TS_TO_EQUIVALENT_TS)"
   ]
  }
 ],
 "metadata": {
  "kernelspec": {
   "display_name": "Python 3 (ipykernel)",
   "language": "python",
   "name": "python3"
  },
  "language_info": {
   "codemirror_mode": {
    "name": "ipython",
    "version": 3
   },
   "file_extension": ".py",
   "mimetype": "text/x-python",
   "name": "python",
   "nbconvert_exporter": "python",
   "pygments_lexer": "ipython3",
   "version": "3.7.16"
  }
 },
 "nbformat": 4,
 "nbformat_minor": 5
}
